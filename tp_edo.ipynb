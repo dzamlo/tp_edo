{
 "cells": [
  {
   "cell_type": "markdown",
   "metadata": {},
   "source": [
    "# Travaux pratiques : Équations différentielles\n",
    "## Introduction\n"
   ]
  },
  {
   "cell_type": "markdown",
   "metadata": {},
   "source": [
    "## Implémentation des solvers"
   ]
  },
  {
   "cell_type": "code",
   "execution_count": 1,
   "metadata": {
    "collapsed": false
   },
   "outputs": [],
   "source": [
    "import matplotlib.pyplot as plt\n",
    "import numpy as np\n",
    "from scipy.integrate import odeint"
   ]
  },
  {
   "cell_type": "code",
   "execution_count": 2,
   "metadata": {
    "collapsed": false
   },
   "outputs": [],
   "source": [
    "def runge_kutta_1_etage(fprime, y0, ts):\n",
    "    try:\n",
    "        ys = np.empty((len(ts), len(y0)))\n",
    "    except TypeError:\n",
    "        ys = np.empty(len(ts))\n",
    "    ys[0] = y0\n",
    "    for n in range(len(ts)-1):\n",
    "        delta_t = ts[n+1]-ts[n]\n",
    "        ys[n+1] = ys[n] + np.multiply(delta_t, fprime(ys[n], ts[n]))\n",
    "    return ys"
   ]
  },
  {
   "cell_type": "code",
   "execution_count": 3,
   "metadata": {
    "collapsed": false
   },
   "outputs": [],
   "source": [
    "def runge_kutta_2_etages(fprime, y0, ts):\n",
    "    try:\n",
    "        ys = np.empty((len(ts), len(y0)))\n",
    "    except TypeError:\n",
    "        ys = np.empty(len(ts))\n",
    "    ys[0] = y0\n",
    "    for n in range(len(ts)-1):\n",
    "        delta_t = ts[n+1]-ts[n]\n",
    "        delta_t2 = (delta_t/2)\n",
    "        fprime_n = fprime(ys[n], ts[n])\n",
    "        ys[n+1] = ys[n] + np.multiply(delta_t, fprime(ys[n] + np.multiply(delta_t2, fprime_n), ts[n] + delta_t2))\n",
    "    return ys"
   ]
  },
  {
   "cell_type": "markdown",
   "metadata": {},
   "source": [
    "## Validation des solvers"
   ]
  },
  {
   "cell_type": "code",
   "execution_count": 4,
   "metadata": {
    "collapsed": false
   },
   "outputs": [],
   "source": [
    "y0 = 10\n",
    "C = 50\n",
    "v = 1\n",
    "F = lambda y, t: v*(1-np.divide(y,C))*y\n",
    "y = lambda t: C/(1+((C-y0)/y0)*np.exp(np.multiply(-v,t)))\n"
   ]
  },
  {
   "cell_type": "code",
   "execution_count": 5,
   "metadata": {
    "collapsed": true
   },
   "outputs": [],
   "source": [
    "def delta_t_to_ts(delta_t, t0=0, tmax=10):\n",
    "    return np.arange(t0, tmax, delta_t)"
   ]
  },
  {
   "cell_type": "code",
   "execution_count": 6,
   "metadata": {
    "collapsed": false,
    "scrolled": false
   },
   "outputs": [
    {
     "data": {
      "text/plain": [
       "<matplotlib.figure.Figure at 0x7ff8f9191240>"
      ]
     },
     "metadata": {},
     "output_type": "display_data"
    }
   ],
   "source": [
    "tmax = 10\n",
    "ts = delta_t_to_ts(0.1, tmax=tmax)\n",
    "value_y = y(ts)\n",
    "value_runge_kutta_1 = runge_kutta_1_etage(F, y0, ts)\n",
    "value_runge_kutta_2 = runge_kutta_2_etages(F, y0, ts)\n",
    "value_scipy = odeint(F, y0, ts)[:, 0]\n",
    "plt.plot(ts, value_y, label=\"solution anlytique\")\n",
    "plt.plot(ts, value_scipy, label=\"solver scipy\")\n",
    "plt.plot(ts, value_runge_kutta_1, label=\"solver 1 étage\")\n",
    "plt.plot(ts, value_runge_kutta_2, label=\"solver 2 étages\")\n",
    "plt.legend(loc='best');"
   ]
  },
  {
   "cell_type": "markdown",
   "metadata": {},
   "source": [
    "## Étude de convergence des solvers"
   ]
  },
  {
   "cell_type": "code",
   "execution_count": 7,
   "metadata": {
    "collapsed": false
   },
   "outputs": [
    {
     "data": {
      "text/plain": [
       "<matplotlib.figure.Figure at 0x7ff8f8575080>"
      ]
     },
     "metadata": {},
     "output_type": "display_data"
    },
    {
     "data": {
      "text/plain": [
       "<matplotlib.figure.Figure at 0x7ff8f8543a90>"
      ]
     },
     "metadata": {},
     "output_type": "display_data"
    },
    {
     "data": {
      "text/plain": [
       "<matplotlib.figure.Figure at 0x7ff8f84dd550>"
      ]
     },
     "metadata": {},
     "output_type": "display_data"
    }
   ],
   "source": [
    "def compute_errors(values1, values2):\n",
    "    diff = np.abs(values1-values2)\n",
    "    diff_square = diff*diff\n",
    "    errors = np.cumsum(diff_square)\n",
    "    for i,v in enumerate(errors):\n",
    "        errors[i] = v/(i+1)\n",
    "    return errors\n",
    "\n",
    "errors_scipy = compute_errors(value_y, value_scipy)\n",
    "errors_runge_kutta_1 = compute_errors(value_y, value_runge_kutta_1)\n",
    "errors_runge_kutta_2 = compute_errors(value_y, value_runge_kutta_2)\n",
    "plt.plot(ts, errors_scipy, label=\"scipy\")\n",
    "plt.legend(loc=\"best\")\n",
    "plt.title(\"Erreur en fonction de t, δt = 0.1\");\n",
    "plt.figure()\n",
    "plt.plot(ts, errors_runge_kutta_1, label=\"1 étage\")\n",
    "plt.legend(loc=\"best\")\n",
    "plt.title(\"Erreur en fonction de t, δt = 0.1\");\n",
    "plt.figure()\n",
    "plt.plot(ts, errors_runge_kutta_2, label=\"2 étages\")\n",
    "plt.legend(loc=\"best\")\n",
    "plt.title(\"Erreur en fonction de t, δt = 0.1\");"
   ]
  },
  {
   "cell_type": "code",
   "execution_count": 8,
   "metadata": {
    "collapsed": false
   },
   "outputs": [
    {
     "data": {
      "text/plain": [
       "<matplotlib.figure.Figure at 0x7ff8f84ab048>"
      ]
     },
     "metadata": {},
     "output_type": "display_data"
    }
   ],
   "source": [
    "delta_ts = [0.1, 0.05, 0.025, 0.0125]\n",
    "errors_runge_kutta_1 = np.zeros_like(delta_ts)\n",
    "errors_runge_kutta_2 = np.zeros_like(delta_ts)\n",
    "\n",
    "y_tmax = y(tmax)\n",
    "for i, delta_t in enumerate(delta_ts):\n",
    "    ts = delta_t_to_ts(delta_t, tmax=tmax)\n",
    "    value_y = y(ts)\n",
    "    errors_runge_kutta_1[i] = compute_errors(value_y, runge_kutta_1_etage(F, y0, ts))[-1]\n",
    "    errors_runge_kutta_2[i] = compute_errors(value_y, runge_kutta_2_etages(F, y0, ts))[-1]\n",
    "\n",
    "plt.loglog(delta_ts, errors_runge_kutta_1, label=\"1 étage\")\n",
    "plt.loglog(delta_ts, errors_runge_kutta_2, label=\"2 étages\")\n",
    "plt.legend(loc=\"best\")\n",
    "plt.title(\"Erreur à tmax en fonction de δt\");"
   ]
  },
  {
   "cell_type": "markdown",
   "metadata": {},
   "source": [
    "## Équation de Lorenz"
   ]
  },
  {
   "cell_type": "code",
   "execution_count": 9,
   "metadata": {
    "collapsed": false
   },
   "outputs": [],
   "source": [
    "beta = 8/3\n",
    "sigma = 10\n",
    "rho = 28\n",
    "\n",
    "def lorenz(y,t):\n",
    "    yx = y[0]\n",
    "    yy = y[1]\n",
    "    yz = y[2]\n",
    "    dyx = sigma*(yy - yx)\n",
    "    dyy = yx * (rho - yz) - yy\n",
    "    dyz = yy * yx - beta*yz\n",
    "    return [dyx, dyy, dyz]\n",
    "\n",
    "ts_lorenz = delta_t_to_ts(0.001, tmax=1.5586522)\n",
    "ts_lorenz = delta_t_to_ts(0.0001, tmax=20*1.5586522)\n",
    "y0_lorenz = [-0.9101673912, -1.922121396, 18.18952097]\n",
    "lorenz_runge_kutta_1 = runge_kutta_1_etage(lorenz, y0_lorenz, ts_lorenz)\n",
    "lorenz_runge_kutta_2 = runge_kutta_2_etages(lorenz, y0_lorenz, ts_lorenz)\n",
    "lorenz_scipy = odeint(lorenz, y0_lorenz, ts_lorenz)"
   ]
  },
  {
   "cell_type": "code",
   "execution_count": 10,
   "metadata": {
    "collapsed": false
   },
   "outputs": [
    {
     "data": {
      "text/plain": [
       "<matplotlib.legend.Legend at 0x7ff8f8647a20>"
      ]
     },
     "execution_count": 10,
     "metadata": {},
     "output_type": "execute_result"
    },
    {
     "name": "stderr",
     "output_type": "stream",
     "text": [
      "/usr/lib/python3/dist-packages/matplotlib/collections.py:571: FutureWarning: elementwise comparison failed; returning scalar instead, but in the future will perform elementwise comparison\n",
      "  if self._edgecolors == str('face'):\n"
     ]
    },
    {
     "data": {
      "image/png": "[encoded data removed]",
      "text/plain": [
       "<matplotlib.figure.Figure at 0x7ff8f84978d0>"
      ]
     },
     "metadata": {},
     "output_type": "display_data"
    }
   ],
   "source": [
    "from mpl_toolkits.mplot3d import Axes3D\n",
    "fig = plt.figure()\n",
    "ax = fig.add_subplot(111, projection='3d')\n",
    "ax.plot(lorenz_scipy[:, 0], lorenz_scipy[:, 1], lorenz_scipy[:, 2], label=\"scipy\")\n",
    "#ax.plot(lorenz_runge_kutta_1[:, 0], lorenz_runge_kutta_1[:, 1], lorenz_runge_kutta_1[:, 2], label=\"1 étage\")\n",
    "#ax.plot(lorenz_runge_kutta_2[:, 0], lorenz_runge_kutta_2[:, 1], lorenz_runge_kutta_2[:, 2], label=\"2 étages\")\n",
    "ax.legend()"
   ]
  },
  {
   "cell_type": "markdown",
   "metadata": {
    "collapsed": false
   },
   "source": [
    "## Conclusion"
   ]
  },
  {
   "cell_type": "code",
   "execution_count": null,
   "metadata": {
    "collapsed": true
   },
   "outputs": [],
   "source": []
  }
 ],
 "metadata": {
  "kernelspec": {
   "display_name": "Python 3",
   "language": "python",
   "name": "python3"
  },
  "language_info": {
   "codemirror_mode": {
    "name": "ipython",
    "version": 3
   },
   "file_extension": ".py",
   "mimetype": "text/x-python",
   "name": "python",
   "nbconvert_exporter": "python",
   "pygments_lexer": "ipython3",
   "version": "3.5.1"
  }
 },
 "nbformat": 4,
 "nbformat_minor": 0
}
